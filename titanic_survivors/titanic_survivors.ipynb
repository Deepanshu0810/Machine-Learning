{
 "cells": [
  {
   "cell_type": "code",
   "execution_count": 1,
   "metadata": {},
   "outputs": [],
   "source": [
    "import pandas as pd\n",
    "import numpy as np\n",
    "\n",
    "import matplotlib.pyplot as plt\n",
    "from pandas.plotting import scatter_matrix\n",
    "%matplotlib inline\n",
    "\n",
    "import seaborn as sns\n",
    "sns.set(style=\"white\",color_codes=True)\n",
    "sns.set(font_scale=1.5)\n",
    "\n",
    "from sklearn.linear_model import LogisticRegression\n",
    "from sklearn.model_selection import train_test_split\n",
    "\n",
    "from sklearn.metrics import confusion_matrix\n",
    "from sklearn.metrics import accuracy_score,precision_score,recall_score,f1_score,classification_report\n"
   ]
  },
  {
   "cell_type": "markdown",
   "metadata": {},
   "source": [
    "# READING THE DATA"
   ]
  },
  {
   "cell_type": "code",
   "execution_count": 2,
   "metadata": {},
   "outputs": [
    {
     "data": {
      "text/plain": [
       "(891, 12)"
      ]
     },
     "execution_count": 2,
     "metadata": {},
     "output_type": "execute_result"
    }
   ],
   "source": [
    "df_train=pd.read_csv(\"titanic.csv\")\n",
    "df_train.shape"
   ]
  },
  {
   "cell_type": "code",
   "execution_count": 3,
   "metadata": {},
   "outputs": [
    {
     "data": {
      "text/html": [
       "<div>\n",
       "<style scoped>\n",
       "    .dataframe tbody tr th:only-of-type {\n",
       "        vertical-align: middle;\n",
       "    }\n",
       "\n",
       "    .dataframe tbody tr th {\n",
       "        vertical-align: top;\n",
       "    }\n",
       "\n",
       "    .dataframe thead th {\n",
       "        text-align: right;\n",
       "    }\n",
       "</style>\n",
       "<table border=\"1\" class=\"dataframe\">\n",
       "  <thead>\n",
       "    <tr style=\"text-align: right;\">\n",
       "      <th></th>\n",
       "      <th>PassengerId</th>\n",
       "      <th>Survived</th>\n",
       "      <th>Pclass</th>\n",
       "      <th>Age</th>\n",
       "      <th>SibSp</th>\n",
       "      <th>Parch</th>\n",
       "      <th>Fare</th>\n",
       "    </tr>\n",
       "  </thead>\n",
       "  <tbody>\n",
       "    <tr>\n",
       "      <th>count</th>\n",
       "      <td>891.000000</td>\n",
       "      <td>891.000000</td>\n",
       "      <td>891.000000</td>\n",
       "      <td>714.000000</td>\n",
       "      <td>891.000000</td>\n",
       "      <td>891.000000</td>\n",
       "      <td>891.000000</td>\n",
       "    </tr>\n",
       "    <tr>\n",
       "      <th>mean</th>\n",
       "      <td>446.000000</td>\n",
       "      <td>0.383838</td>\n",
       "      <td>2.308642</td>\n",
       "      <td>29.699118</td>\n",
       "      <td>0.523008</td>\n",
       "      <td>0.381594</td>\n",
       "      <td>32.204208</td>\n",
       "    </tr>\n",
       "    <tr>\n",
       "      <th>std</th>\n",
       "      <td>257.353842</td>\n",
       "      <td>0.486592</td>\n",
       "      <td>0.836071</td>\n",
       "      <td>14.526497</td>\n",
       "      <td>1.102743</td>\n",
       "      <td>0.806057</td>\n",
       "      <td>49.693429</td>\n",
       "    </tr>\n",
       "    <tr>\n",
       "      <th>min</th>\n",
       "      <td>1.000000</td>\n",
       "      <td>0.000000</td>\n",
       "      <td>1.000000</td>\n",
       "      <td>0.420000</td>\n",
       "      <td>0.000000</td>\n",
       "      <td>0.000000</td>\n",
       "      <td>0.000000</td>\n",
       "    </tr>\n",
       "    <tr>\n",
       "      <th>25%</th>\n",
       "      <td>223.500000</td>\n",
       "      <td>0.000000</td>\n",
       "      <td>2.000000</td>\n",
       "      <td>20.125000</td>\n",
       "      <td>0.000000</td>\n",
       "      <td>0.000000</td>\n",
       "      <td>7.910400</td>\n",
       "    </tr>\n",
       "    <tr>\n",
       "      <th>50%</th>\n",
       "      <td>446.000000</td>\n",
       "      <td>0.000000</td>\n",
       "      <td>3.000000</td>\n",
       "      <td>28.000000</td>\n",
       "      <td>0.000000</td>\n",
       "      <td>0.000000</td>\n",
       "      <td>14.454200</td>\n",
       "    </tr>\n",
       "    <tr>\n",
       "      <th>75%</th>\n",
       "      <td>668.500000</td>\n",
       "      <td>1.000000</td>\n",
       "      <td>3.000000</td>\n",
       "      <td>38.000000</td>\n",
       "      <td>1.000000</td>\n",
       "      <td>0.000000</td>\n",
       "      <td>31.000000</td>\n",
       "    </tr>\n",
       "    <tr>\n",
       "      <th>max</th>\n",
       "      <td>891.000000</td>\n",
       "      <td>1.000000</td>\n",
       "      <td>3.000000</td>\n",
       "      <td>80.000000</td>\n",
       "      <td>8.000000</td>\n",
       "      <td>6.000000</td>\n",
       "      <td>512.329200</td>\n",
       "    </tr>\n",
       "  </tbody>\n",
       "</table>\n",
       "</div>"
      ],
      "text/plain": [
       "       PassengerId    Survived      Pclass         Age       SibSp  \\\n",
       "count   891.000000  891.000000  891.000000  714.000000  891.000000   \n",
       "mean    446.000000    0.383838    2.308642   29.699118    0.523008   \n",
       "std     257.353842    0.486592    0.836071   14.526497    1.102743   \n",
       "min       1.000000    0.000000    1.000000    0.420000    0.000000   \n",
       "25%     223.500000    0.000000    2.000000   20.125000    0.000000   \n",
       "50%     446.000000    0.000000    3.000000   28.000000    0.000000   \n",
       "75%     668.500000    1.000000    3.000000   38.000000    1.000000   \n",
       "max     891.000000    1.000000    3.000000   80.000000    8.000000   \n",
       "\n",
       "            Parch        Fare  \n",
       "count  891.000000  891.000000  \n",
       "mean     0.381594   32.204208  \n",
       "std      0.806057   49.693429  \n",
       "min      0.000000    0.000000  \n",
       "25%      0.000000    7.910400  \n",
       "50%      0.000000   14.454200  \n",
       "75%      0.000000   31.000000  \n",
       "max      6.000000  512.329200  "
      ]
     },
     "execution_count": 3,
     "metadata": {},
     "output_type": "execute_result"
    }
   ],
   "source": [
    "df_train.describe()"
   ]
  },
  {
   "cell_type": "code",
   "execution_count": 4,
   "metadata": {},
   "outputs": [
    {
     "data": {
      "text/plain": [
       "0    549\n",
       "1    342\n",
       "Name: Survived, dtype: int64"
      ]
     },
     "execution_count": 4,
     "metadata": {},
     "output_type": "execute_result"
    }
   ],
   "source": [
    "df_train.Survived.value_counts()"
   ]
  },
  {
   "cell_type": "code",
   "execution_count": 5,
   "metadata": {},
   "outputs": [
    {
     "data": {
      "text/plain": [
       "male      577\n",
       "female    314\n",
       "Name: Sex, dtype: int64"
      ]
     },
     "execution_count": 5,
     "metadata": {},
     "output_type": "execute_result"
    }
   ],
   "source": [
    "df_train.Sex.value_counts()"
   ]
  },
  {
   "cell_type": "code",
   "execution_count": 6,
   "metadata": {},
   "outputs": [
    {
     "data": {
      "text/plain": [
       "S    644\n",
       "C    168\n",
       "Q     77\n",
       "Name: Embarked, dtype: int64"
      ]
     },
     "execution_count": 6,
     "metadata": {},
     "output_type": "execute_result"
    }
   ],
   "source": [
    "df_train.Embarked.value_counts()\n",
    "#embarked means the place from where the passanger get on the ship\n",
    "#consider thre places S, C and Q"
   ]
  },
  {
   "cell_type": "markdown",
   "metadata": {},
   "source": [
    "# CLEANING THE DATA"
   ]
  },
  {
   "cell_type": "code",
   "execution_count": 7,
   "metadata": {},
   "outputs": [
    {
     "data": {
      "text/plain": [
       "PassengerId      0\n",
       "Survived         0\n",
       "Pclass           0\n",
       "Name             0\n",
       "Sex              0\n",
       "Age            177\n",
       "SibSp            0\n",
       "Parch            0\n",
       "Ticket           0\n",
       "Fare             0\n",
       "Cabin          687\n",
       "Embarked         2\n",
       "dtype: int64"
      ]
     },
     "execution_count": 7,
     "metadata": {},
     "output_type": "execute_result"
    }
   ],
   "source": [
    "df_train.isnull().sum()\n",
    "#calculating null values in the dataset"
   ]
  },
  {
   "cell_type": "code",
   "execution_count": 8,
   "metadata": {},
   "outputs": [
    {
     "data": {
      "text/html": [
       "<div>\n",
       "<style scoped>\n",
       "    .dataframe tbody tr th:only-of-type {\n",
       "        vertical-align: middle;\n",
       "    }\n",
       "\n",
       "    .dataframe tbody tr th {\n",
       "        vertical-align: top;\n",
       "    }\n",
       "\n",
       "    .dataframe thead th {\n",
       "        text-align: right;\n",
       "    }\n",
       "</style>\n",
       "<table border=\"1\" class=\"dataframe\">\n",
       "  <thead>\n",
       "    <tr style=\"text-align: right;\">\n",
       "      <th></th>\n",
       "      <th>Survived</th>\n",
       "      <th>Pclass</th>\n",
       "      <th>Sex</th>\n",
       "      <th>Age</th>\n",
       "      <th>SibSp</th>\n",
       "      <th>Parch</th>\n",
       "      <th>Fare</th>\n",
       "      <th>Embarked</th>\n",
       "    </tr>\n",
       "  </thead>\n",
       "  <tbody>\n",
       "    <tr>\n",
       "      <th>0</th>\n",
       "      <td>0</td>\n",
       "      <td>3</td>\n",
       "      <td>male</td>\n",
       "      <td>22.0</td>\n",
       "      <td>1</td>\n",
       "      <td>0</td>\n",
       "      <td>7.2500</td>\n",
       "      <td>S</td>\n",
       "    </tr>\n",
       "    <tr>\n",
       "      <th>1</th>\n",
       "      <td>1</td>\n",
       "      <td>1</td>\n",
       "      <td>female</td>\n",
       "      <td>38.0</td>\n",
       "      <td>1</td>\n",
       "      <td>0</td>\n",
       "      <td>71.2833</td>\n",
       "      <td>C</td>\n",
       "    </tr>\n",
       "    <tr>\n",
       "      <th>2</th>\n",
       "      <td>1</td>\n",
       "      <td>3</td>\n",
       "      <td>female</td>\n",
       "      <td>26.0</td>\n",
       "      <td>0</td>\n",
       "      <td>0</td>\n",
       "      <td>7.9250</td>\n",
       "      <td>S</td>\n",
       "    </tr>\n",
       "    <tr>\n",
       "      <th>3</th>\n",
       "      <td>1</td>\n",
       "      <td>1</td>\n",
       "      <td>female</td>\n",
       "      <td>35.0</td>\n",
       "      <td>1</td>\n",
       "      <td>0</td>\n",
       "      <td>53.1000</td>\n",
       "      <td>S</td>\n",
       "    </tr>\n",
       "    <tr>\n",
       "      <th>4</th>\n",
       "      <td>0</td>\n",
       "      <td>3</td>\n",
       "      <td>male</td>\n",
       "      <td>35.0</td>\n",
       "      <td>0</td>\n",
       "      <td>0</td>\n",
       "      <td>8.0500</td>\n",
       "      <td>S</td>\n",
       "    </tr>\n",
       "  </tbody>\n",
       "</table>\n",
       "</div>"
      ],
      "text/plain": [
       "   Survived  Pclass     Sex   Age  SibSp  Parch     Fare Embarked\n",
       "0         0       3    male  22.0      1      0   7.2500        S\n",
       "1         1       1  female  38.0      1      0  71.2833        C\n",
       "2         1       3  female  26.0      0      0   7.9250        S\n",
       "3         1       1  female  35.0      1      0  53.1000        S\n",
       "4         0       3    male  35.0      0      0   8.0500        S"
      ]
     },
     "execution_count": 8,
     "metadata": {},
     "output_type": "execute_result"
    }
   ],
   "source": [
    "#variable 'cabin' have a lot of null values and it is not significant for determining the survivbility of the people\n",
    "#so we can drop that coloums like passengerid , name , ticket , cabin to refine our data\n",
    "df_train=df_train.drop([\"PassengerId\",\"Name\",\"Ticket\",\"Cabin\"],axis=1)\n",
    "df_train.head()"
   ]
  },
  {
   "cell_type": "code",
   "execution_count": 9,
   "metadata": {},
   "outputs": [
    {
     "data": {
      "text/html": [
       "<div>\n",
       "<style scoped>\n",
       "    .dataframe tbody tr th:only-of-type {\n",
       "        vertical-align: middle;\n",
       "    }\n",
       "\n",
       "    .dataframe tbody tr th {\n",
       "        vertical-align: top;\n",
       "    }\n",
       "\n",
       "    .dataframe thead th {\n",
       "        text-align: right;\n",
       "    }\n",
       "</style>\n",
       "<table border=\"1\" class=\"dataframe\">\n",
       "  <thead>\n",
       "    <tr style=\"text-align: right;\">\n",
       "      <th></th>\n",
       "      <th>Survived</th>\n",
       "      <th>Age</th>\n",
       "      <th>SibSp</th>\n",
       "      <th>Parch</th>\n",
       "      <th>Fare</th>\n",
       "    </tr>\n",
       "    <tr>\n",
       "      <th>Pclass</th>\n",
       "      <th></th>\n",
       "      <th></th>\n",
       "      <th></th>\n",
       "      <th></th>\n",
       "      <th></th>\n",
       "    </tr>\n",
       "  </thead>\n",
       "  <tbody>\n",
       "    <tr>\n",
       "      <th>1</th>\n",
       "      <td>0.629630</td>\n",
       "      <td>38.233441</td>\n",
       "      <td>0.416667</td>\n",
       "      <td>0.356481</td>\n",
       "      <td>84.154687</td>\n",
       "    </tr>\n",
       "    <tr>\n",
       "      <th>2</th>\n",
       "      <td>0.472826</td>\n",
       "      <td>29.877630</td>\n",
       "      <td>0.402174</td>\n",
       "      <td>0.380435</td>\n",
       "      <td>20.662183</td>\n",
       "    </tr>\n",
       "    <tr>\n",
       "      <th>3</th>\n",
       "      <td>0.242363</td>\n",
       "      <td>25.140620</td>\n",
       "      <td>0.615071</td>\n",
       "      <td>0.393075</td>\n",
       "      <td>13.675550</td>\n",
       "    </tr>\n",
       "  </tbody>\n",
       "</table>\n",
       "</div>"
      ],
      "text/plain": [
       "        Survived        Age     SibSp     Parch       Fare\n",
       "Pclass                                                    \n",
       "1       0.629630  38.233441  0.416667  0.356481  84.154687\n",
       "2       0.472826  29.877630  0.402174  0.380435  20.662183\n",
       "3       0.242363  25.140620  0.615071  0.393075  13.675550"
      ]
     },
     "execution_count": 9,
     "metadata": {},
     "output_type": "execute_result"
    }
   ],
   "source": [
    "#now we need to fill up the null values in age with the average value of age of people\n",
    "df_train.groupby([\"Pclass\"]).mean()"
   ]
  },
  {
   "cell_type": "code",
   "execution_count": 10,
   "metadata": {},
   "outputs": [],
   "source": [
    "#now we will assign the age to the null values according to the class of people\n",
    "def age_approx(cols):\n",
    "    age=cols[0]\n",
    "    pclass=cols[1]\n",
    "    if pd.isnull(age):\n",
    "        if pclass==1:\n",
    "            return 38\n",
    "        elif pclass == 2:\n",
    "            return 29\n",
    "        elif pclass == 3:\n",
    "            return 25\n",
    "    else:\n",
    "        return age"
   ]
  },
  {
   "cell_type": "code",
   "execution_count": 11,
   "metadata": {},
   "outputs": [
    {
     "data": {
      "text/plain": [
       "Survived    0\n",
       "Pclass      0\n",
       "Sex         0\n",
       "Age         0\n",
       "SibSp       0\n",
       "Parch       0\n",
       "Fare        0\n",
       "Embarked    2\n",
       "dtype: int64"
      ]
     },
     "execution_count": 11,
     "metadata": {},
     "output_type": "execute_result"
    }
   ],
   "source": [
    "df_train[\"Age\"]=df_train[[\"Age\",\"Pclass\"]].apply(age_approx,axis=1)\n",
    "df_train.isnull().sum()"
   ]
  },
  {
   "cell_type": "code",
   "execution_count": 12,
   "metadata": {},
   "outputs": [],
   "source": [
    "#since only 2 nulls are left in embark we can drop those 2 data entities\n",
    "df_train.dropna(inplace=True)"
   ]
  },
  {
   "cell_type": "code",
   "execution_count": 13,
   "metadata": {},
   "outputs": [
    {
     "data": {
      "text/plain": [
       "Survived    0\n",
       "Pclass      0\n",
       "Sex         0\n",
       "Age         0\n",
       "SibSp       0\n",
       "Parch       0\n",
       "Fare        0\n",
       "Embarked    0\n",
       "dtype: int64"
      ]
     },
     "execution_count": 13,
     "metadata": {},
     "output_type": "execute_result"
    }
   ],
   "source": [
    "df_train.isnull().sum()"
   ]
  },
  {
   "cell_type": "code",
   "execution_count": 14,
   "metadata": {},
   "outputs": [
    {
     "data": {
      "text/plain": [
       "Survived      int64\n",
       "Pclass        int64\n",
       "Sex          object\n",
       "Age         float64\n",
       "SibSp         int64\n",
       "Parch         int64\n",
       "Fare        float64\n",
       "Embarked     object\n",
       "dtype: object"
      ]
     },
     "execution_count": 14,
     "metadata": {},
     "output_type": "execute_result"
    }
   ],
   "source": [
    "df_train.dtypes"
   ]
  },
  {
   "cell_type": "code",
   "execution_count": 15,
   "metadata": {},
   "outputs": [],
   "source": [
    "#now we need to convert 'sex' and 'embarked' into catagorical values\n",
    "df_train_dummied = pd.get_dummies(df_train,columns=[\"Sex\"])"
   ]
  },
  {
   "cell_type": "code",
   "execution_count": 16,
   "metadata": {},
   "outputs": [],
   "source": [
    "df_train_dummied = pd.get_dummies(df_train_dummied,columns=[\"Embarked\"])"
   ]
  },
  {
   "cell_type": "code",
   "execution_count": 17,
   "metadata": {},
   "outputs": [
    {
     "data": {
      "text/html": [
       "<div>\n",
       "<style scoped>\n",
       "    .dataframe tbody tr th:only-of-type {\n",
       "        vertical-align: middle;\n",
       "    }\n",
       "\n",
       "    .dataframe tbody tr th {\n",
       "        vertical-align: top;\n",
       "    }\n",
       "\n",
       "    .dataframe thead th {\n",
       "        text-align: right;\n",
       "    }\n",
       "</style>\n",
       "<table border=\"1\" class=\"dataframe\">\n",
       "  <thead>\n",
       "    <tr style=\"text-align: right;\">\n",
       "      <th></th>\n",
       "      <th>Survived</th>\n",
       "      <th>Pclass</th>\n",
       "      <th>Age</th>\n",
       "      <th>SibSp</th>\n",
       "      <th>Parch</th>\n",
       "      <th>Fare</th>\n",
       "      <th>Sex_female</th>\n",
       "      <th>Sex_male</th>\n",
       "      <th>Embarked_C</th>\n",
       "      <th>Embarked_Q</th>\n",
       "      <th>Embarked_S</th>\n",
       "    </tr>\n",
       "  </thead>\n",
       "  <tbody>\n",
       "    <tr>\n",
       "      <th>0</th>\n",
       "      <td>0</td>\n",
       "      <td>3</td>\n",
       "      <td>22.0</td>\n",
       "      <td>1</td>\n",
       "      <td>0</td>\n",
       "      <td>7.2500</td>\n",
       "      <td>0</td>\n",
       "      <td>1</td>\n",
       "      <td>0</td>\n",
       "      <td>0</td>\n",
       "      <td>1</td>\n",
       "    </tr>\n",
       "    <tr>\n",
       "      <th>1</th>\n",
       "      <td>1</td>\n",
       "      <td>1</td>\n",
       "      <td>38.0</td>\n",
       "      <td>1</td>\n",
       "      <td>0</td>\n",
       "      <td>71.2833</td>\n",
       "      <td>1</td>\n",
       "      <td>0</td>\n",
       "      <td>1</td>\n",
       "      <td>0</td>\n",
       "      <td>0</td>\n",
       "    </tr>\n",
       "    <tr>\n",
       "      <th>2</th>\n",
       "      <td>1</td>\n",
       "      <td>3</td>\n",
       "      <td>26.0</td>\n",
       "      <td>0</td>\n",
       "      <td>0</td>\n",
       "      <td>7.9250</td>\n",
       "      <td>1</td>\n",
       "      <td>0</td>\n",
       "      <td>0</td>\n",
       "      <td>0</td>\n",
       "      <td>1</td>\n",
       "    </tr>\n",
       "    <tr>\n",
       "      <th>3</th>\n",
       "      <td>1</td>\n",
       "      <td>1</td>\n",
       "      <td>35.0</td>\n",
       "      <td>1</td>\n",
       "      <td>0</td>\n",
       "      <td>53.1000</td>\n",
       "      <td>1</td>\n",
       "      <td>0</td>\n",
       "      <td>0</td>\n",
       "      <td>0</td>\n",
       "      <td>1</td>\n",
       "    </tr>\n",
       "    <tr>\n",
       "      <th>4</th>\n",
       "      <td>0</td>\n",
       "      <td>3</td>\n",
       "      <td>35.0</td>\n",
       "      <td>0</td>\n",
       "      <td>0</td>\n",
       "      <td>8.0500</td>\n",
       "      <td>0</td>\n",
       "      <td>1</td>\n",
       "      <td>0</td>\n",
       "      <td>0</td>\n",
       "      <td>1</td>\n",
       "    </tr>\n",
       "  </tbody>\n",
       "</table>\n",
       "</div>"
      ],
      "text/plain": [
       "   Survived  Pclass   Age  SibSp  Parch     Fare  Sex_female  Sex_male  \\\n",
       "0         0       3  22.0      1      0   7.2500           0         1   \n",
       "1         1       1  38.0      1      0  71.2833           1         0   \n",
       "2         1       3  26.0      0      0   7.9250           1         0   \n",
       "3         1       1  35.0      1      0  53.1000           1         0   \n",
       "4         0       3  35.0      0      0   8.0500           0         1   \n",
       "\n",
       "   Embarked_C  Embarked_Q  Embarked_S  \n",
       "0           0           0           1  \n",
       "1           1           0           0  \n",
       "2           0           0           1  \n",
       "3           0           0           1  \n",
       "4           0           0           1  "
      ]
     },
     "execution_count": 17,
     "metadata": {},
     "output_type": "execute_result"
    }
   ],
   "source": [
    "df_train_dummied.head()"
   ]
  },
  {
   "cell_type": "code",
   "execution_count": 18,
   "metadata": {},
   "outputs": [
    {
     "data": {
      "text/plain": [
       "<AxesSubplot:>"
      ]
     },
     "execution_count": 18,
     "metadata": {},
     "output_type": "execute_result"
    },
    {
     "data": {
      "image/png": "[encoded data removed]",
      "text/plain": [
       "<Figure size 432x288 with 2 Axes>"
      ]
     },
     "metadata": {},
     "output_type": "display_data"
    }
   ],
   "source": [
    "plt.figure(figsize=(6,4))\n",
    "sns.heatmap(df_train_dummied.corr())"
   ]
  },
  {
   "cell_type": "markdown",
   "metadata": {},
   "source": [
    "## TRAINING THE MODEL"
   ]
  },
  {
   "cell_type": "code",
   "execution_count": 19,
   "metadata": {},
   "outputs": [
    {
     "name": "stdout",
     "output_type": "stream",
     "text": [
      "(622, 9)\n",
      "(267, 9)\n",
      "(622,)\n",
      "(267,)\n"
     ]
    }
   ],
   "source": [
    "used_features=[\"Pclass\",\"Age\",\"SibSp\",\"Parch\",\"Sex_female\",\"Sex_male\",\"Embarked_C\",\"Embarked_Q\",\"Embarked_S\"]\n",
    "X=df_train_dummied[used_features].values\n",
    "Y=df_train_dummied[\"Survived\"]\n",
    "x_train,x_test,y_train,y_test=train_test_split(X,Y,test_size=0.3,random_state=37)\n",
    "print(x_train.shape)\n",
    "print(x_test.shape)\n",
    "print(y_train.shape)\n",
    "print(y_test.shape)\n"
   ]
  },
  {
   "cell_type": "code",
   "execution_count": 20,
   "metadata": {},
   "outputs": [
    {
     "data": {
      "text/plain": [
       "LogisticRegression()"
      ]
     },
     "execution_count": 20,
     "metadata": {},
     "output_type": "execute_result"
    }
   ],
   "source": [
    "model = LogisticRegression()\n",
    "model.fit(x_train,y_train)"
   ]
  },
  {
   "cell_type": "code",
   "execution_count": 21,
   "metadata": {},
   "outputs": [
    {
     "data": {
      "text/plain": [
       "(267,)"
      ]
     },
     "execution_count": 21,
     "metadata": {},
     "output_type": "execute_result"
    }
   ],
   "source": [
    "y_predicted=model.predict(x_test)\n",
    "y_predicted.shape"
   ]
  },
  {
   "cell_type": "code",
   "execution_count": 23,
   "metadata": {},
   "outputs": [
    {
     "name": "stdout",
     "output_type": "stream",
     "text": [
      "[[138  21]\n",
      " [ 33  75]]\n"
     ]
    }
   ],
   "source": [
    "c_matrix=confusion_matrix(y_test,y_predicted)\n",
    "print(c_matrix)"
   ]
  },
  {
   "cell_type": "code",
   "execution_count": 24,
   "metadata": {},
   "outputs": [
    {
     "data": {
      "text/plain": [
       "0.797752808988764"
      ]
     },
     "execution_count": 24,
     "metadata": {},
     "output_type": "execute_result"
    }
   ],
   "source": [
    "accuracy_score(y_test,y_predicted)"
   ]
  },
  {
   "cell_type": "code",
   "execution_count": 30,
   "metadata": {},
   "outputs": [
    {
     "name": "stdout",
     "output_type": "stream",
     "text": [
      "              precision    recall  f1-score   support\n",
      "\n",
      "           0       0.81      0.87      0.84       159\n",
      "           1       0.78      0.69      0.74       108\n",
      "\n",
      "    accuracy                           0.80       267\n",
      "   macro avg       0.79      0.78      0.79       267\n",
      "weighted avg       0.80      0.80      0.80       267\n",
      "\n"
     ]
    }
   ],
   "source": [
    "print(classification_report(y_test,y_predicted))"
   ]
  },
  {
   "cell_type": "markdown",
   "metadata": {},
   "source": [
    "## PREDICTING THE COEFFICIENT AND INTERCEPT OF THE LOGISTIC CURVE"
   ]
  },
  {
   "cell_type": "code",
   "execution_count": 31,
   "metadata": {},
   "outputs": [
    {
     "data": {
      "text/plain": [
       "array([[-1.18453556, -0.03634795, -0.31853973, -0.1070885 ,  1.31896126,\n",
       "        -1.31988501,  0.27307618, -0.01797842, -0.25602151]])"
      ]
     },
     "execution_count": 31,
     "metadata": {},
     "output_type": "execute_result"
    }
   ],
   "source": [
    "model.coef_"
   ]
  },
  {
   "cell_type": "code",
   "execution_count": 32,
   "metadata": {},
   "outputs": [
    {
     "data": {
      "text/plain": [
       "array([3.82894415])"
      ]
     },
     "execution_count": 32,
     "metadata": {},
     "output_type": "execute_result"
    }
   ],
   "source": [
    "model.intercept_"
   ]
  },
  {
   "cell_type": "markdown",
   "metadata": {},
   "source": [
    "## CHECKING THE ALGORITHM'S PREDICTED PROBABILITIES"
   ]
  },
  {
   "cell_type": "code",
   "execution_count": 33,
   "metadata": {},
   "outputs": [
    {
     "data": {
      "text/plain": [
       "Index(['Pclass', 'Age', 'SibSp', 'Parch', 'Sex_female', 'Sex_male',\n",
       "       'Embarked_C', 'Embarked_Q', 'Embarked_S'],\n",
       "      dtype='object')"
      ]
     },
     "execution_count": 33,
     "metadata": {},
     "output_type": "execute_result"
    }
   ],
   "source": [
    "df_train_dummied[used_features].columns"
   ]
  },
  {
   "cell_type": "code",
   "execution_count": 34,
   "metadata": {},
   "outputs": [
    {
     "data": {
      "text/plain": [
       "array([[0.8777426 , 0.1222574 ],\n",
       "       [0.89250776, 0.10749224],\n",
       "       [0.88143887, 0.11856113],\n",
       "       [0.25561334, 0.74438666],\n",
       "       [0.90107868, 0.09892132],\n",
       "       [0.84503835, 0.15496165],\n",
       "       [0.87597259, 0.12402741],\n",
       "       [0.10218266, 0.89781734],\n",
       "       [0.92606839, 0.07393161],\n",
       "       [0.91888966, 0.08111034],\n",
       "       [0.43739296, 0.56260704],\n",
       "       [0.40963502, 0.59036498],\n",
       "       [0.44611567, 0.55388433],\n",
       "       [0.77605449, 0.22394551],\n",
       "       [0.05525751, 0.94474249],\n",
       "       [0.72876868, 0.27123132],\n",
       "       [0.90107868, 0.09892132],\n",
       "       [0.02798261, 0.97201739],\n",
       "       [0.07332617, 0.92667383],\n",
       "       [0.57754907, 0.42245093],\n",
       "       [0.10749092, 0.89250908],\n",
       "       [0.48133599, 0.51866401],\n",
       "       [0.93945907, 0.06054093],\n",
       "       [0.79443418, 0.20556582],\n",
       "       [0.04658851, 0.95341149],\n",
       "       [0.70800107, 0.29199893],\n",
       "       [0.1231809 , 0.8768191 ],\n",
       "       [0.94774495, 0.05225505],\n",
       "       [0.47226881, 0.52773119],\n",
       "       [0.93808855, 0.06191145],\n",
       "       [0.92653332, 0.07346668],\n",
       "       [0.28453891, 0.71546109],\n",
       "       [0.90107868, 0.09892132],\n",
       "       [0.8777426 , 0.1222574 ],\n",
       "       [0.8736287 , 0.1263713 ],\n",
       "       [0.18167055, 0.81832945],\n",
       "       [0.88365719, 0.11634281],\n",
       "       [0.40293987, 0.59706013],\n",
       "       [0.90107868, 0.09892132],\n",
       "       [0.91156672, 0.08843328],\n",
       "       [0.18713691, 0.81286309],\n",
       "       [0.7396739 , 0.2603261 ],\n",
       "       [0.63784311, 0.36215689],\n",
       "       [0.9215578 , 0.0784422 ],\n",
       "       [0.33902963, 0.66097037],\n",
       "       [0.87986793, 0.12013207],\n",
       "       [0.83789486, 0.16210514],\n",
       "       [0.91824699, 0.08175301],\n",
       "       [0.91038229, 0.08961771],\n",
       "       [0.20726278, 0.79273722],\n",
       "       [0.97089398, 0.02910602],\n",
       "       [0.08368904, 0.91631096],\n",
       "       [0.394227  , 0.605773  ],\n",
       "       [0.41845319, 0.58154681],\n",
       "       [0.91038229, 0.08961771],\n",
       "       [0.17632922, 0.82367078],\n",
       "       [0.92908692, 0.07091308],\n",
       "       [0.9541184 , 0.0458816 ],\n",
       "       [0.94951604, 0.05048396],\n",
       "       [0.87771352, 0.12228648],\n",
       "       [0.97382217, 0.02617783],\n",
       "       [0.12399648, 0.87600352],\n",
       "       [0.59053217, 0.40946783],\n",
       "       [0.88734222, 0.11265778],\n",
       "       [0.03815138, 0.96184862],\n",
       "       [0.87542741, 0.12457259],\n",
       "       [0.44732352, 0.55267648],\n",
       "       [0.57754907, 0.42245093],\n",
       "       [0.28060407, 0.71939593],\n",
       "       [0.60775508, 0.39224492],\n",
       "       [0.8777426 , 0.1222574 ],\n",
       "       [0.94919575, 0.05080425],\n",
       "       [0.36850813, 0.63149187],\n",
       "       [0.16338522, 0.83661478],\n",
       "       [0.71001606, 0.28998394],\n",
       "       [0.90107868, 0.09892132],\n",
       "       [0.47226881, 0.52773119],\n",
       "       [0.05441192, 0.94558808],\n",
       "       [0.96856563, 0.03143437],\n",
       "       [0.23507127, 0.76492873],\n",
       "       [0.04205625, 0.95794375],\n",
       "       [0.95082888, 0.04917112],\n",
       "       [0.33902963, 0.66097037],\n",
       "       [0.52673672, 0.47326328],\n",
       "       [0.88365719, 0.11634281],\n",
       "       [0.79443418, 0.20556582],\n",
       "       [0.88734222, 0.11265778],\n",
       "       [0.61435168, 0.38564832],\n",
       "       [0.21045988, 0.78954012],\n",
       "       [0.43503989, 0.56496011],\n",
       "       [0.72772384, 0.27227616],\n",
       "       [0.99311679, 0.00688321],\n",
       "       [0.90253027, 0.09746973],\n",
       "       [0.0657885 , 0.9342115 ],\n",
       "       [0.59517871, 0.40482129],\n",
       "       [0.4136051 , 0.5863949 ],\n",
       "       [0.14685225, 0.85314775],\n",
       "       [0.1007131 , 0.8992869 ],\n",
       "       [0.77605449, 0.22394551],\n",
       "       [0.4136051 , 0.5863949 ],\n",
       "       [0.33902963, 0.66097037],\n",
       "       [0.65716944, 0.34283056],\n",
       "       [0.9102956 , 0.0897044 ],\n",
       "       [0.90107868, 0.09892132],\n",
       "       [0.43624137, 0.56375863],\n",
       "       [0.46011264, 0.53988736],\n",
       "       [0.87986793, 0.12013207],\n",
       "       [0.6868091 , 0.3131909 ],\n",
       "       [0.64229285, 0.35770715],\n",
       "       [0.87196931, 0.12803069],\n",
       "       [0.69687173, 0.30312827],\n",
       "       [0.26115697, 0.73884303],\n",
       "       [0.46438404, 0.53561596],\n",
       "       [0.76316744, 0.23683256],\n",
       "       [0.88882777, 0.11117223],\n",
       "       [0.04124888, 0.95875112],\n",
       "       [0.14660743, 0.85339257],\n",
       "       [0.03343662, 0.96656338],\n",
       "       [0.19863437, 0.80136563],\n",
       "       [0.90107868, 0.09892132],\n",
       "       [0.73589337, 0.26410663],\n",
       "       [0.85996686, 0.14003314],\n",
       "       [0.90555776, 0.09444224],\n",
       "       [0.84292706, 0.15707294],\n",
       "       [0.51993488, 0.48006512],\n",
       "       [0.44611567, 0.55388433],\n",
       "       [0.86785631, 0.13214369],\n",
       "       [0.95197596, 0.04802404],\n",
       "       [0.24994837, 0.75005163],\n",
       "       [0.28384704, 0.71615296],\n",
       "       [0.40082517, 0.59917483],\n",
       "       [0.37700634, 0.62299366],\n",
       "       [0.08368904, 0.91631096],\n",
       "       [0.41171443, 0.58828557],\n",
       "       [0.74005024, 0.25994976],\n",
       "       [0.08052982, 0.91947018],\n",
       "       [0.90107868, 0.09892132],\n",
       "       [0.27714334, 0.72285666],\n",
       "       [0.05891746, 0.94108254],\n",
       "       [0.89779121, 0.10220879],\n",
       "       [0.07377839, 0.92622161],\n",
       "       [0.35019995, 0.64980005],\n",
       "       [0.90107868, 0.09892132],\n",
       "       [0.94412719, 0.05587281],\n",
       "       [0.84292706, 0.15707294],\n",
       "       [0.9529756 , 0.0470244 ],\n",
       "       [0.90107868, 0.09892132],\n",
       "       [0.95457791, 0.04542209],\n",
       "       [0.68824026, 0.31175974],\n",
       "       [0.79994889, 0.20005111],\n",
       "       [0.97072703, 0.02927297],\n",
       "       [0.65319867, 0.34680133],\n",
       "       [0.91330389, 0.08669611],\n",
       "       [0.63810662, 0.36189338],\n",
       "       [0.96345479, 0.03654521],\n",
       "       [0.49236508, 0.50763492],\n",
       "       [0.7408067 , 0.2591933 ],\n",
       "       [0.94960848, 0.05039152],\n",
       "       [0.82794411, 0.17205589],\n",
       "       [0.74410886, 0.25589114],\n",
       "       [0.57754907, 0.42245093],\n",
       "       [0.43835555, 0.56164445],\n",
       "       [0.76967412, 0.23032588],\n",
       "       [0.0865189 , 0.9134811 ],\n",
       "       [0.12225592, 0.87774408],\n",
       "       [0.75756038, 0.24243962],\n",
       "       [0.86641589, 0.13358411],\n",
       "       [0.83554727, 0.16445273],\n",
       "       [0.21458107, 0.78541893],\n",
       "       [0.3037707 , 0.6962293 ],\n",
       "       [0.96908462, 0.03091538],\n",
       "       [0.16164185, 0.83835815],\n",
       "       [0.24045576, 0.75954424],\n",
       "       [0.84292706, 0.15707294],\n",
       "       [0.31745171, 0.68254829],\n",
       "       [0.91185403, 0.08814597],\n",
       "       [0.8476798 , 0.1523202 ],\n",
       "       [0.75927759, 0.24072241],\n",
       "       [0.74977792, 0.25022208],\n",
       "       [0.72303493, 0.27696507],\n",
       "       [0.90107868, 0.09892132],\n",
       "       [0.95907839, 0.04092161],\n",
       "       [0.44611567, 0.55388433],\n",
       "       [0.03683972, 0.96316028],\n",
       "       [0.74289693, 0.25710307],\n",
       "       [0.90107868, 0.09892132],\n",
       "       [0.84292706, 0.15707294],\n",
       "       [0.3891279 , 0.6108721 ],\n",
       "       [0.12716082, 0.87283918],\n",
       "       [0.83558595, 0.16441405],\n",
       "       [0.93692088, 0.06307912],\n",
       "       [0.09505399, 0.90494601],\n",
       "       [0.64893419, 0.35106581],\n",
       "       [0.57754907, 0.42245093],\n",
       "       [0.05177456, 0.94822544],\n",
       "       [0.90107868, 0.09892132],\n",
       "       [0.29169729, 0.70830271],\n",
       "       [0.96048233, 0.03951767],\n",
       "       [0.87986793, 0.12013207],\n",
       "       [0.92606839, 0.07393161],\n",
       "       [0.74777564, 0.25222436],\n",
       "       [0.90107868, 0.09892132],\n",
       "       [0.72152453, 0.27847547],\n",
       "       [0.89779121, 0.10220879],\n",
       "       [0.32623819, 0.67376181],\n",
       "       [0.73280591, 0.26719409],\n",
       "       [0.88365719, 0.11634281],\n",
       "       [0.18713691, 0.81286309],\n",
       "       [0.11840869, 0.88159131],\n",
       "       [0.04124888, 0.95875112],\n",
       "       [0.89440729, 0.10559271],\n",
       "       [0.95907839, 0.04092161],\n",
       "       [0.92606839, 0.07393161],\n",
       "       [0.61256617, 0.38743383],\n",
       "       [0.60343745, 0.39656255],\n",
       "       [0.94170871, 0.05829129],\n",
       "       [0.63918545, 0.36081455],\n",
       "       [0.89779121, 0.10220879],\n",
       "       [0.73589337, 0.26410663],\n",
       "       [0.25050026, 0.74949974],\n",
       "       [0.16809805, 0.83190195],\n",
       "       [0.52624926, 0.47375074],\n",
       "       [0.05079052, 0.94920948],\n",
       "       [0.22894348, 0.77105652],\n",
       "       [0.57754907, 0.42245093],\n",
       "       [0.11362867, 0.88637133],\n",
       "       [0.91613901, 0.08386099],\n",
       "       [0.73589337, 0.26410663],\n",
       "       [0.83169776, 0.16830224],\n",
       "       [0.92665448, 0.07334552],\n",
       "       [0.46414125, 0.53585875],\n",
       "       [0.9215578 , 0.0784422 ],\n",
       "       [0.58982314, 0.41017686],\n",
       "       [0.68495801, 0.31504199],\n",
       "       [0.92908692, 0.07091308],\n",
       "       [0.58913225, 0.41086775],\n",
       "       [0.87196931, 0.12803069],\n",
       "       [0.94784045, 0.05215955],\n",
       "       [0.90107868, 0.09892132],\n",
       "       [0.57169958, 0.42830042],\n",
       "       [0.82794411, 0.17205589],\n",
       "       [0.31046531, 0.68953469],\n",
       "       [0.87986793, 0.12013207],\n",
       "       [0.34197431, 0.65802569],\n",
       "       [0.4546289 , 0.5453711 ],\n",
       "       [0.34450852, 0.65549148],\n",
       "       [0.89092495, 0.10907505],\n",
       "       [0.05780594, 0.94219406],\n",
       "       [0.88734222, 0.11265778],\n",
       "       [0.92414543, 0.07585457],\n",
       "       [0.87259034, 0.12740966],\n",
       "       [0.84162962, 0.15837038],\n",
       "       [0.88734222, 0.11265778],\n",
       "       [0.48826849, 0.51173151],\n",
       "       [0.91038229, 0.08961771],\n",
       "       [0.12529662, 0.87470338],\n",
       "       [0.88365719, 0.11634281],\n",
       "       [0.72451778, 0.27548222],\n",
       "       [0.90107868, 0.09892132],\n",
       "       [0.9576278 , 0.0423722 ],\n",
       "       [0.76967412, 0.23032588],\n",
       "       [0.91262117, 0.08737883],\n",
       "       [0.9359436 , 0.0640564 ],\n",
       "       [0.65319867, 0.34680133],\n",
       "       [0.82253295, 0.17746705],\n",
       "       [0.93903524, 0.06096476],\n",
       "       [0.47823692, 0.52176308]])"
      ]
     },
     "execution_count": 34,
     "metadata": {},
     "output_type": "execute_result"
    }
   ],
   "source": [
    "model.predict_proba(x_test)\n",
    "#first column - the probability that a person has not survived\n",
    "#second column - the probability of a person surviving"
   ]
  }
 ],
 "metadata": {
  "kernelspec": {
   "display_name": "Python 3 (ipykernel)",
   "language": "python",
   "name": "python3"
  },
  "language_info": {
   "codemirror_mode": {
    "name": "ipython",
    "version": 3
   },
   "file_extension": ".py",
   "mimetype": "text/x-python",
   "name": "python",
   "nbconvert_exporter": "python",
   "pygments_lexer": "ipython3",
   "version": "3.9.7"
  },
  "vscode": {
   "interpreter": {
    "hash": "a2ab3825ac7005fb7b26f112e9c99ae62f464c629e30b0d534c3b931b6cbc3ff"
   }
  }
 },
 "nbformat": 4,
 "nbformat_minor": 2
}
